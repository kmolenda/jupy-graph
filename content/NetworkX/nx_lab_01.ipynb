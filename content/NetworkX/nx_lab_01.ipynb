{
  "cells": [
    {
      "cell_type": "markdown",
      "metadata": {
        "id": "9bZ7r0s9kFar"
      },
      "source": [
        "# Grafy - `NetworkX` - szybki przegląd"
      ]
    },
    {
      "cell_type": "markdown",
      "metadata": {},
      "source": [
        "## Konfiguracja środowiska (VS Code + Python 3.12+)\n",
        "\n",
        ":::{seealso} [Dokumentacja - instalacja NetworkX](https://networkx.org/documentation/stable/install.html)\n",
        ":::\n",
        "\n",
        "Najlepsze rozwiązanie dla Win11: instalacja WSL Ubuntu 24.04 + instalacja `networkx[default,extra]`\n",
        "\n",
        "0. Python3.12\n",
        "0. VSCode + plugin: Jupyter (od Microsoft)\n",
        "1. Definiowanie środowiska wirtualnego `venv`\n",
        "2. Instalacja bibliotek networkx: `pip install networkx[default]`:\n",
        "  - instaluje `networkx` oraz biblioteki dodatkowe, wymagane: `numpy`, `scipy`, `pandas`, `matplotlib`, ... .\n",
        "  - `extra` --> instaluje dodatkowe biblioteki (`PyGraphViz`, `pydoot`, `lxml`). Wymagana instalacja `graphviz` lokalnie ([instalacja PyGraphViz](https://pygraphviz.github.io/documentation/stable/install.html))\n"
      ]
    },
    {
      "cell_type": "code",
      "execution_count": null,
      "metadata": {
        "colab": {
          "base_uri": "https://localhost:8080/",
          "height": 35
        },
        "id": "cy91iubtnpI4",
        "outputId": "b997b862-8e49-45c0-9cba-0a5a0f864ff0",
        "trusted": true
      },
      "outputs": [],
      "source": [
        "# importowanie biblioteki networkx\n",
        "import networkx as nx\n",
        "display(nx.__version__)"
      ]
    },
    {
      "cell_type": "code",
      "execution_count": null,
      "metadata": {
        "id": "zZsS9fd-iF9A",
        "trusted": true
      },
      "outputs": [],
      "source": [
        "# biblioteki umożliwiające prostą wizualizację grafów\n",
        "import matplotlib.pyplot as plt"
      ]
    },
    {
      "cell_type": "markdown",
      "metadata": {},
      "source": [
        ":::{seealso} Oficjalny [tutorial NetworkX](https://networkx.org/documentation/stable/tutorial.html) :::"
      ]
    },
    {
      "cell_type": "markdown",
      "metadata": {
        "id": "133OtkThkCHk"
      },
      "source": [
        "## Definiowanie grafu"
      ]
    },
    {
      "cell_type": "code",
      "execution_count": null,
      "metadata": {
        "id": "3Jn9cOgIkvSN",
        "trusted": true
      },
      "outputs": [],
      "source": [
        "# klasa `Graph` - graf nieskierowany, prosty\n",
        "G = nx.Graph()\n",
        "\n",
        "# dodanie pojedynczego węzła o podanej etykiecie\n",
        "G.add_node('a') \n",
        "\n",
        "# dodanie wielu węzłów z obiektu iterowalnego (np. listy)\n",
        "G.add_nodes_from(['b', 'c'])\n",
        "\n",
        "# dodanie pojedynczej krawędzi, graf nieskierowany, kolejność nie ma znaczenia\n",
        "G.add_edge('a', 'b')\n",
        "\n",
        "# dodanie wielu krawędzi, uzupełnienie brakujących węzłów\n",
        "edges_to_add = [('a', 'c'), ('b', 'c'), ('c', 'd')]\n",
        "G.add_edges_from(edges_to_add)\n",
        "\n",
        "# rysowanie grafu\n",
        "nx.draw(G, \n",
        "        with_labels=True,\n",
        "        #node_color='blue',\n",
        "        #node_size=1600,\n",
        "        #font_color='white',\n",
        "        #font_size=16,\n",
        "        )"
      ]
    },
    {
      "cell_type": "code",
      "execution_count": null,
      "metadata": {
        "trusted": true
      },
      "outputs": [],
      "source": [
        "# parametry grafu\n",
        "display( G.nodes ) # `nodes` jest property, zwraca iterowalny obiekt `NodeView`\n",
        "print( f\"liczba węzłów: {G.number_of_nodes()}\")\n",
        "print( G.edges )\n",
        "print( f\"liczba krawędzi: {G.number_of_edges()}\")"
      ]
    },
    {
      "cell_type": "code",
      "execution_count": null,
      "metadata": {
        "trusted": true
      },
      "outputs": [],
      "source": [
        "# sąsiedzi węzła\n",
        "print(G.neighbors('b')) # `neighbors`` zwraca iterator\n",
        "for v in G.neighbors('b'):\n",
        "    print(v, end =\" \")\n",
        "print()\n",
        "print( list(G.neighbors('b')))"
      ]
    },
    {
      "cell_type": "markdown",
      "metadata": {},
      "source": [
        "`NetworkX` pozwala na dostęp do cech grafu na dwa sposoby:\n",
        "\n",
        "* jako metody obiektu `Graph`: `G.<method_name>(<arguments>)` lub `G.<property>` - głównie strukturalne cechy grafu\n",
        "* jako funkcje pakietu/modułu: `nx.<function_name>(G, <arguments>)` - głównie algorytmy grafowe"
      ]
    },
    {
      "cell_type": "code",
      "execution_count": null,
      "metadata": {
        "trusted": true
      },
      "outputs": [],
      "source": [
        "print( G.degree('b') )\n",
        "print( nx.degree(G, 'b') )\n",
        "\n",
        "# print( G.is_tree() ) # nie ma takiej metody\n",
        "print( nx.is_tree(G) )      # czy jest drzewem\n",
        "print( nx.is_connected(G) ) # czy jest spójny"
      ]
    },
    {
      "cell_type": "code",
      "execution_count": null,
      "metadata": {
        "trusted": true
      },
      "outputs": [],
      "source": [
        "# przynależność węzła/krawędzi do grafu\n",
        "\n",
        "print( 'b' in G.nodes )\n",
        "print( G.has_node('b') )\n",
        "print( G.has_edge('b', 'a'))\n",
        "print( ('a', 'b') in G.edges )"
      ]
    },
    {
      "cell_type": "markdown",
      "metadata": {},
      "source": [
        "### Ćwiczenie 1\n",
        "\n",
        "Uzupełnij kod funkcji `liscie(G: Graph) -> Iterable` zwracającej sekwencję węzłów grafu nieskierowanego prostego, które są liśćmi (mają tylko jednego sąsiada)."
      ]
    },
    {
      "cell_type": "code",
      "execution_count": null,
      "metadata": {
        "trusted": true
      },
      "outputs": [],
      "source": [
        "# Ćwiczenie 1\n",
        "from typing import Iterable\n",
        "from networkx import Graph # type: ignore\n",
        "\n",
        "def liscie(G: Graph) -> Iterable:\n",
        "    # raise NotImplementedError(\"brak kodu\")"
      ]
    },
    {
      "cell_type": "code",
      "execution_count": null,
      "metadata": {
        "trusted": true
      },
      "outputs": [],
      "source": [
        "# test - ćwiczenie 1\n",
        "G_test = nx.Graph()\n",
        "G_test.add_edges_from([\n",
        "        ('a', 'b'),\n",
        "        ('a', 'd'),\n",
        "        ('c', 'd'),\n",
        "    ])\n",
        "\n",
        "assert set(liscie(G_test)) == {'c', 'b'}\n",
        "print(sorted(list(liscie(G_test))))"
      ]
    },
    {
      "cell_type": "markdown",
      "metadata": {},
      "source": [
        "## Reprezentacje grafu"
      ]
    },
    {
      "cell_type": "code",
      "execution_count": null,
      "metadata": {
        "trusted": true
      },
      "outputs": [],
      "source": [
        "# Eksport grafu do macierzy sąsiedztwa\n",
        "\n",
        "G1 = nx.Graph()\n",
        "G1.add_edges_from([(1, 2), (2, 3), (3, 1)])\n",
        "\n",
        "# Macierz sąsiedztwa jako tablica numpy\n",
        "adj_matrix = nx.to_numpy_array(G1)\n",
        "print(adj_matrix, end=\"\\n\\n\")\n",
        "\n",
        "# Macierz sąsiedztwa jako dataframe pandas\n",
        "import pandas as pd\n",
        "adj_matrix = nx.to_pandas_adjacency(G1)\n",
        "print(adj_matrix, end=\"\\n\\n\")\n"
      ]
    },
    {
      "cell_type": "code",
      "execution_count": null,
      "metadata": {
        "trusted": true
      },
      "outputs": [],
      "source": [
        "# Eksport grafu do listy sąsiadów\n",
        "\n",
        "# Iteracja po wierzchołkach z wypisaniem sąsiadów\n",
        "for node in G.nodes:\n",
        "    print(f\"{node}: {list(G.neighbors(node))}\")\n",
        "print()\n",
        "\n",
        "# G.adj - wewnętrzna reprezentacja grafu jako property typu AdjacencyView\n",
        "print( G.adj )\n",
        "print( type(G.adj) )\n",
        "\n",
        "# nx.adjacency_data(G) - słownik, przechowujący strukturę grafu\n",
        "print( nx.adjacency_data(G) )"
      ]
    },
    {
      "cell_type": "markdown",
      "metadata": {},
      "source": [
        "### Wczytywanie grafu z pliku\n",
        "\n",
        "1. Lista krawędzi, każda linia zawiera parę etykiet wierzchołków, np. dla pliku `graph.txt`\n",
        "    ```txt\n",
        "    1 2\n",
        "    1 3\n",
        "    2 3\n",
        "    2 4\n",
        "    ```\n",
        "\n",
        "    polecenie:\n",
        "\n",
        "    ```python\n",
        "    G = nx.read_edgelist(\"graph.txt\", nodetype=int)\n",
        "    ```\n",
        "\n",
        "2. Macierz sąsiedztwa, każda linia reprezentuje wiersz macierzy, za pomocą `numpy`:\n",
        "\n",
        "    ```python\n",
        "    # Wczytanie macierzy z pliku \"matrix.txt\"\n",
        "    matrix = np.loadtxt(\"matrix.txt\", dtype=int)\n",
        "\n",
        "    # Utworzenie grafu z macierzy\n",
        "    G = nx.from_numpy_matrix(matrix)\n",
        "    ```\n",
        "\n",
        "3. Lista sąsiedztwa, każda linia reprezentuje węzeł i jego sąsiadów:\n",
        "    ```python\n",
        "    # Wczytanie listy sąsiedztwa z pliku \"adj_list.txt\"\n",
        "    adj_list = {}\n",
        "    with open(\"adj_list.txt\", \"r\") as f:\n",
        "        for line in f:\n",
        "            node, neighbors = line.strip().split(\":\")\n",
        "            adj_list[int(node)] = [int(n) for n in neighbors.split()]\n",
        "\n",
        "    # Utworzenie grafu z listy sąsiedztwa\n",
        "    G = nx.from_dict_of_lists(adj_list)\n",
        "    ```\n",
        "\n",
        "4. Format GML ([_Graph Modeling Language_](https://en.wikipedia.org/wiki/Graph_Modelling_Language))\n",
        "    ```python\n",
        "    G = nx.read_gml(\"graph.gml\")\n",
        "    ```\n",
        "\n",
        "5. Inne: `read_weighted_edgelist`, `read_adjlist`, ... --> dokumentacja"
      ]
    },
    {
      "cell_type": "markdown",
      "metadata": {},
      "source": [
        "### Zapisywanie grafu do pliku tekstowego\n",
        "\n",
        "* `write_edgelist`, `write_adjlist`, `write_gml`, ... -> dokumentacja"
      ]
    },
    {
      "cell_type": "markdown",
      "metadata": {},
      "source": [
        "### Ćwiczenie 2\n",
        "\n",
        "Wykonaj eksperymenty z wczytywaniem i zapisywaniem grafów do plików tekstowych, w różnych formatach"
      ]
    },
    {
      "cell_type": "markdown",
      "metadata": {},
      "source": [
        "## Graf skierowany (_digraph_)"
      ]
    },
    {
      "cell_type": "code",
      "execution_count": null,
      "metadata": {
        "trusted": true
      },
      "outputs": [],
      "source": [
        "D = nx.DiGraph() # graf skierowany, nieważony\n",
        "D.add_edges_from([(1,2),(2,3),(3,2),(3,4),(3,5),(4,5),(4,6),(5,6),(6,4),(4,2)])\n",
        "nx.draw(D, with_labels=True)"
      ]
    },
    {
      "cell_type": "code",
      "execution_count": null,
      "metadata": {
        "trusted": true
      },
      "outputs": [],
      "source": [
        "print('Następniki dla 2:', list(D.successors(2)), \"liczba: \", D.out_degree(2))\n",
        "print('Poprzedniki dla 2:', list(D.predecessors(2)), \"liczba: \", D.in_degree(2))\n",
        "print( \"Wierzchołki i ich stopnie: \", D.degree )\n",
        "print(\"Sąsiedzi dla 2: \", list(D.neighbors(2)))"
      ]
    },
    {
      "cell_type": "markdown",
      "metadata": {},
      "source": [
        "## Graf ważony"
      ]
    },
    {
      "cell_type": "code",
      "execution_count": null,
      "metadata": {
        "trusted": true
      },
      "outputs": [],
      "source": [
        "H = nx.Graph() # graf nieskierowany, ważony\n",
        "H.add_edge('A', 'B', weight=4)\n",
        "H.add_weighted_edges_from([('B', 'C', 2), ('C', 'E', 3), ('D', 'E', 4), ('E', 'A', 5)])\n",
        "\n",
        "layout = nx.spring_layout(H)\n",
        "m = nx.draw_networkx(H, pos=layout, with_labels=True)\n",
        "m = nx.draw_networkx_edge_labels(H, pos=layout, edge_labels=nx.get_edge_attributes(H, 'weight'))"
      ]
    },
    {
      "cell_type": "code",
      "execution_count": null,
      "metadata": {
        "trusted": true
      },
      "outputs": [],
      "source": [
        "D = nx.DiGraph()\n",
        "D.add_edge(\"A\", \"B\", weight=2)\n",
        "D.add_edge(\"B\", \"A\", weight=3)\n",
        "D.add_edge(\"A\", \"C\", weight=4)\n",
        "D.add_edge(\"C\", \"A\", weight=5)\n",
        "D.add_edge(\"A\", \"D\", weight=6)\n",
        "D.add_edge(\"B\", \"D\", weight=7)\n",
        "D.add_edge(\"C\", \"D\", weight=8)\n",
        "\n",
        "positions = {\"A\": (0, 0), \"B\": (1, -2), \"C\": (1, 2), \"D\": (2, 0)}\n",
        "nx.draw_networkx_nodes(D, pos=positions, node_size=500)\n",
        "nx.draw_networkx_labels(D, pos=positions, font_color=\"w\")\n",
        "nx.draw_networkx_edges(\n",
        "    D,\n",
        "    pos=positions,\n",
        "    arrowstyle=\"->\",\n",
        "    connectionstyle=\"arc3,rad=0.3\",\n",
        ")\n",
        "nx.draw_networkx_edge_labels(D, pos=positions, edge_labels=nx.get_edge_attributes(D, 'weight'), label_pos=0.2);"
      ]
    },
    {
      "cell_type": "code",
      "execution_count": null,
      "metadata": {
        "trusted": true
      },
      "outputs": [],
      "source": [
        "#!pip install pydot\n",
        "dot = nx.nx_pydot.to_pydot(D)\n",
        "print(dot)"
      ]
    },
    {
      "cell_type": "markdown",
      "metadata": {},
      "source": [
        "## Generatory grafów"
      ]
    },
    {
      "cell_type": "code",
      "execution_count": null,
      "metadata": {
        "trusted": true
      },
      "outputs": [],
      "source": [
        "g = nx.barabasi_albert_graph(10, 2)\n",
        "nx.draw(g, with_labels=True)"
      ]
    },
    {
      "cell_type": "code",
      "execution_count": null,
      "metadata": {
        "trusted": true
      },
      "outputs": [],
      "source": [
        "g = nx.complete_graph(5)\n",
        "nx.draw(g, pos = nx.shell_layout(g), with_labels=False)"
      ]
    },
    {
      "cell_type": "code",
      "execution_count": null,
      "metadata": {
        "trusted": true
      },
      "outputs": [],
      "source": [
        "g = nx.erdos_renyi_graph(20,0.15)\n",
        "nx.draw(g, with_labels=True)"
      ]
    },
    {
      "cell_type": "markdown",
      "metadata": {
        "id": "NR76mO0V0EcQ"
      },
      "source": [
        "## Ścieżki, cykle, spójność"
      ]
    },
    {
      "cell_type": "code",
      "execution_count": null,
      "metadata": {
        "trusted": true
      },
      "outputs": [],
      "source": [
        "nx.draw(G, with_labels=True)"
      ]
    },
    {
      "cell_type": "code",
      "execution_count": null,
      "metadata": {
        "trusted": true
      },
      "outputs": [],
      "source": [
        "# ścieżki\n",
        "print(\"Czy jest ścieżka od 'a' do 'd':\", nx.has_path(G, 'a', 'd') )\n",
        "\n",
        "print(\"Ścieżki bez cykli:\", list(nx.all_simple_paths(G, 'a', 'd')))\n",
        "print(\"Najkrótsza ścieżka:\", nx.shortest_path(G, 'a', 'd'), \"ma długość:\",  nx.shortest_path_length(G, 'a', 'd'))"
      ]
    },
    {
      "cell_type": "code",
      "execution_count": null,
      "metadata": {
        "trusted": true
      },
      "outputs": [],
      "source": [
        "# spójność\n",
        "nx.is_connected(G)"
      ]
    },
    {
      "cell_type": "code",
      "execution_count": null,
      "metadata": {
        "trusted": true
      },
      "outputs": [],
      "source": [
        "G2 = nx.Graph()\n",
        "\n",
        "nx.add_cycle(G2, (1,2,3))\n",
        "G2.add_edge(4,5)\n",
        "\n",
        "nx.draw(G2, with_labels=True)"
      ]
    },
    {
      "cell_type": "code",
      "execution_count": null,
      "metadata": {
        "trusted": true
      },
      "outputs": [],
      "source": [
        "print( nx.is_connected(G2) )\n",
        "print( nx.has_path(G2, source=3, target=5))\n",
        "print(\"Liczba składowych spójnych:\", nx.number_connected_components(G2))\n",
        "print(\"Lista składowych spójnych:\", list(nx.connected_components(G2)))\n",
        "print(\"Maksymalna składowa spójna:\", max(nx.connected_components(G2), key=len))\n",
        "\n",
        "# podgraf zbudowany na węzłach maksymalnej składowej spójnej\n",
        "core_nodes = max(nx.connected_components(G2), key=len)\n",
        "core = G2.subgraph( core_nodes )\n",
        "nx.draw(core, with_labels=True)"
      ]
    },
    {
      "cell_type": "markdown",
      "metadata": {},
      "source": [
        "### Ścieżki i spójność dla grafów skierowanych"
      ]
    },
    {
      "cell_type": "code",
      "execution_count": null,
      "metadata": {
        "trusted": true
      },
      "outputs": [],
      "source": [
        "D1 = nx.DiGraph()\n",
        "D1.add_edges_from([\n",
        "    (1,2),\n",
        "    (2,3),\n",
        "    (3,2), (3,4), (3,5),\n",
        "    (4,2), (4,5), (4,6),\n",
        "    (5,6),\n",
        "    (6,4),\n",
        "])\n",
        "nx.draw(D1, with_labels=True)"
      ]
    },
    {
      "cell_type": "code",
      "execution_count": null,
      "metadata": {
        "trusted": true
      },
      "outputs": [],
      "source": [
        "print(nx.has_path(D1, 1, 4))\n",
        "print(nx.has_path(D1, 4, 1))"
      ]
    },
    {
      "cell_type": "code",
      "execution_count": null,
      "metadata": {
        "trusted": true
      },
      "outputs": [],
      "source": [
        "print(nx.shortest_path(D1, 2, 5))\n",
        "print(nx.shortest_path(D1, 5, 2))"
      ]
    },
    {
      "cell_type": "markdown",
      "metadata": {},
      "source": [
        "W grafach skierowanych występują dwa rodzaje spójności:\n",
        "\n",
        "* składowa silnie spójna (ang. _strongly connected_) - z dowolnego wierzchołka możemy dostać się do dowolnego innego wierzchołka, zachowując kierunkowość krawędzi\n",
        "\n",
        "* składowa słabo spójna (ang. _weakly connected_) - ​​istnieje ścieżka pomiędzy każdą parą węzłów, niezależnie od kierunku"
      ]
    },
    {
      "cell_type": "code",
      "execution_count": null,
      "metadata": {
        "trusted": true
      },
      "outputs": [],
      "source": [
        "print(nx.is_strongly_connected(D1))\n",
        "print(list(nx.strongly_connected_components(D1)))\n",
        "\n",
        "print(nx.is_weakly_connected(D1))\n",
        "# print(nx.is_connected(D1)) # nie wolno użyć dla grafów skierowanych\n",
        "print(list(nx.weakly_connected_components(D1)))"
      ]
    },
    {
      "cell_type": "markdown",
      "metadata": {},
      "source": [
        "## Przechodzenie po grafie\n",
        "\n",
        "* [NetworkX. Traversal. Depth First Search](https://networkx.org/documentation/stable/reference/algorithms/traversal.html#module-networkx.algorithms.traversal.depth_first_search)\n",
        "\n",
        "* [NetworkX. Traversal. Breadth First Search](https://networkx.org/documentation/stable/reference/algorithms/traversal.html#module-networkx.algorithms.traversal.breadth_first_search)"
      ]
    },
    {
      "cell_type": "markdown",
      "metadata": {},
      "source": [
        "## Ćwiczenie 3\n",
        "\n",
        "Ćwiczenie dotyczy eksploracji grafu połączeń między lotniskami w USA. Wierzchołki grafu etykietowane są kodami [IATA](https://en.wikipedia.org/wiki/List_of_airports_by_IATA_airport_code:_A). W pliku w formacie [GraphML](https://en.wikipedia.org/wiki/GraphML) zapisane są również bezpośrednie połączenia między lotniskami. Zakładamy, że graf jest **nieskierowany**. Dane pochodzą sprzed ok. 8 lat i nie obejmują wszystkich połączeń (są to dane do ćwiczenia).\n",
        "\n",
        "UWAGA: rozwiązując zadania możesz - na podstawie definicji grafu - opracowywać algorytmy i wykonywać obliczenia. Możesz również eksplorować dokumentację projektu `NetworkX` i odnaleźć dedykowane funkcje.\n",
        "\n",
        "Postawione pytania mają charakter otwarty. Sposób podejścia do udzielenia odpowiedzi na te pytania zależy od Ciebie."
      ]
    },
    {
      "cell_type": "code",
      "execution_count": null,
      "metadata": {
        "trusted": true
      },
      "outputs": [],
      "source": [
        "import networkx as nx\n",
        "import requests\n",
        "\n",
        "# URL pliku z opisem grafu\n",
        "url = \"https://raw.githubusercontent.com/URK-KIPLiIS/Python-Data/main/airports/openflights_usa.graphml\"\n",
        "\n",
        "# Pobranie treści pliku z URL\n",
        "response = requests.get(url)\n",
        "response.raise_for_status()  # Sprawdzenie, czy pobranie zakończyło się sukcesem\n",
        "\n",
        "# Wczytanie grafu z pobranej treści, która jest już stringiem\n",
        "G = nx.parse_graphml(response.text)\n",
        "\n",
        "# Wyświetlenie grafu\n",
        "print(G.nodes)\n",
        "print(G.edges)\n",
        "\n",
        "G.nodes['IND']"
      ]
    },
    {
      "cell_type": "code",
      "execution_count": null,
      "metadata": {
        "trusted": true
      },
      "outputs": [],
      "source": [
        "display( G.number_of_nodes() )\n",
        "G.number_of_edges()\n",
        "print( list( nx.all_shortest_paths(G, 'GLH', 'AUK') ))"
      ]
    },
    {
      "cell_type": "markdown",
      "metadata": {},
      "source": [
        "### Zadanie 1\n",
        "\n",
        "Czy jest bezpośredni lot na trasie Indianapolis–Fairbanks na Alasce (FAI)? Lot bezpośredni to taki, w którym nie ma przesiadek.\n",
        "\n",
        "Gdybym chciał polecieć z Indianapolis do Fairbanks na Alasce, jaki byłby plan obejmujący najmniejszą liczbę przesiadek?"
      ]
    },
    {
      "cell_type": "code",
      "execution_count": null,
      "metadata": {
        "trusted": true
      },
      "outputs": [],
      "source": []
    },
    {
      "cell_type": "markdown",
      "metadata": {},
      "source": [
        "### Zadanie 2\n",
        "\n",
        "Wyobraź sobie, że chcesz zaplanować podróż samolotem z lotniska w Nowym Jorku (JFK) do lotniska w Los Angeles (LAX). Chcesz znaleźć trasę, która obejmuje co najwyżej 3 przesiadki. Wypisz wszystkie takie trasy.\n",
        "> Wykorzystaj algorytm BFS do znalezienia tych tras?"
      ]
    },
    {
      "cell_type": "code",
      "execution_count": null,
      "metadata": {
        "trusted": true
      },
      "outputs": [],
      "source": []
    },
    {
      "cell_type": "markdown",
      "metadata": {},
      "source": [
        "### Zadanie 3\n",
        "\n",
        "Czy można podróżować z dowolnego lotniska w USA na inne lotnisko w USA, ewentualnie korzystając z lotów przesiadkowych? Innymi słowy, czy istnieje ścieżka w sieci pomiędzy każdą możliwą parą lotnisk?\n"
      ]
    },
    {
      "cell_type": "code",
      "execution_count": null,
      "metadata": {
        "trusted": true
      },
      "outputs": [],
      "source": []
    },
    {
      "cell_type": "markdown",
      "metadata": {},
      "source": [
        "### Zadanie 4 - struktura grafu\n",
        "\n",
        "* Jaki jest stopień węzła reprezentującego lotnisko w Chicago (ORD)?\n",
        "* Ile jest węzłów w tym grafie?\n",
        "* Ile jest krawędzi w tym grafie?\n",
        "* Jaki jest średni stopień węzła w tym grafie?\n",
        "* Jaki jest średni dystans między dwoma losowo wybranymi węzłami w tym grafie?\n",
        "    > Średni dystans ścieżkowy jest ważną miarą w analizie sieci, ponieważ pozwala na ocenę \"rozmiaru\" sieci i łatwości poruszania się po niej. Im mniejszy średni dystans ścieżkowy, tym bardziej \"gęsta\" jest sieć i tym łatwiej jest dotrzeć z jednego węzła do drugiego. `nx.average_shortest_path_length` działa tylko dla grafów spójnych. Obliczenie średniego dystansu ścieżkowego może być czasochłonne dla dużych grafów."
      ]
    },
    {
      "cell_type": "code",
      "execution_count": null,
      "metadata": {
        "trusted": true
      },
      "outputs": [],
      "source": []
    },
    {
      "cell_type": "markdown",
      "metadata": {},
      "source": [
        "### Zadanie 5 - połączenia\n",
        "\n",
        "* Które lotniska są bezpośrednio połączone z lotniskiem w Los Angeles (LAX)?\n",
        "* Czy istnieje ścieżka między lotniskiem w Nowym Jorku (JFK) a lotniskiem w San Francisco (SFO)?\n",
        "* Jaka jest najkrótsza ścieżka między lotniskiem w Miami (MIA) a lotniskiem w Seattle (SEA)?\n",
        "* Ile jest różnych ścieżek między lotniskiem w Chicago (ORD) a lotniskiem w Denver (DEN)?\n",
        "* Czy graf połączeń jest spójny, a jeśli nie, ile liczy składowych spójnych?\n",
        "* Czy istnieją mosty w tym grafie? Jeśli są, to między którymi lotniskami.\n",
        "* Czy istnieją punkty artykulacji w tym grafie? (Czy usunięcie jakiegokolwiek węzła spowodowałoby rozłączenie grafu?)\n",
        "\n",
        "**Podpowiedzi:** `nx.bridges`, `nx.articulation_points`, [Most (teoria grafów) @Wikipedia](https://pl.wikipedia.org/wiki/Most_(teoria_graf%C3%B3w)), [Punkt artykulacji @Wikipedia](https://pl.wikipedia.org/wiki/Punkt_artykulacji)"
      ]
    },
    {
      "cell_type": "code",
      "execution_count": null,
      "metadata": {
        "trusted": true
      },
      "outputs": [],
      "source": []
    }
  ],
  "metadata": {
    "colab": {
      "provenance": []
    },
    "kernelspec": {
      "display_name": "Python (Pyodide)",
      "language": "python",
      "name": "python"
    },
    "language_info": {
      "codemirror_mode": {
        "name": "python",
        "version": 3
      },
      "file_extension": ".py",
      "mimetype": "text/x-python",
      "name": "python",
      "nbconvert_exporter": "python",
      "pygments_lexer": "ipython3",
      "version": "3.8"
    },
    "polyglot_notebook": {
      "kernelInfo": {
        "defaultKernelName": "csharp",
        "items": [
          {
            "aliases": [],
            "name": "csharp"
          }
        ]
      }
    }
  },
  "nbformat": 4,
  "nbformat_minor": 4
}
