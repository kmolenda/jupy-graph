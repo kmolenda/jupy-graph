{
  "metadata": {
    "kernelspec": {
      "name": "python",
      "display_name": "Python (Pyodide)",
      "language": "python"
    },
    "language_info": {
      "codemirror_mode": {
        "name": "python",
        "version": 3
      },
      "file_extension": ".py",
      "mimetype": "text/x-python",
      "name": "python",
      "nbconvert_exporter": "python",
      "pygments_lexer": "ipython3",
      "version": "3.8"
    }
  },
  "nbformat_minor": 5,
  "nbformat": 4,
  "cells": [
    {
      "id": "e319bf8e-3852-44a0-a3a9-22b140a58367",
      "cell_type": "markdown",
      "source": "# Harmonogramowanie zadań z zależnościami i zasobami\n\n* Krzysztof Molenda, 2025.05.30",
      "metadata": {}
    },
    {
      "id": "be7b2f94-29dc-407a-84a2-3ff1019808e5",
      "cell_type": "markdown",
      "source": "## Problem\n\nFirma produkcyjna potrzebuje harmonogramu wykonania zadań na maszynach, uwzględniającego:\n\n1. zależności między zadaniami (np. zadanie `B` może rozpocząć się dopiero po zakończeniu zadania `A`).\n2. ograniczone zasoby (każde zadanie wymaga określonych maszyn, które mogą obsługiwać tylko jedno zadanie naraz).\n3. minimalizację całkowitego czasu wykonania (_makespan_).\n\n    :::{note} definicja makespan\n    :class: tip, dropdown\n    Makespan to termin używany w teorii szeregowania zadań do określenia całkowitego czasu trwania wszystkich zadań — czyli czasu od rozpoczęcia pierwszego zadania do zakończenia ostatniego zadania w harmonogramie (najdłuższy czas, po którym wszystkie zadania zostaną wykonane, uwzględniając ich zależności i ograniczenia zasobów).\n    \n    Formalnie:\n    $$\n    \\text{makespan} = \\max_{1 \\leq j \\leq n} C_j\n    $$\n    \n    gdzie $ C_j $ to czas zakończenia zadania $j$, a $n$ to liczba zadań\n    :::\n\nDane wejściowe: lista zadań, format JSON\n```json\n[\n    {\n        \"id\": \"T1\",\n        \"duration\": 5,\n        \"resources\": [\"Maszyna_A\"],\n        \"dependencies\": []  # Zadania, które muszą zakończyć się przed tym zadaniem\n    },\n    {\n        \"id\": \"T2\",\n        \"duration\": 3,\n        \"resources\": [\"Maszyna_B\"],\n        \"dependencies\": [\"T1\"]\n    },\n    # ...\n]\n```\n\n## Cel zadania\n\n**Cel:** opracować harmonogram przypisujący każdemu zadaniu czas startu i zasób, spełniający wszystkie zależności i ograniczenia. Zwrócić makespan (czas zakończenia ostatniego zadania) lub komunikat o niemożliwości rozwiązania.\n\n## Przykład\n\n### Wejście\n\n```python\ntasks = [\n    {\"id\": \"T1\", \"duration\": 5, \"resources\": [\"M1\"], \"dependencies\": []},\n    {\"id\": \"T2\", \"duration\": 3, \"resources\": [\"M1\"], \"dependencies\": [\"T1\"]},\n    {\"id\": \"T3\", \"duration\": 2, \"resources\": [\"M2\"], \"dependencies\": [\"T1\"]},\n    {\"id\": \"T4\", \"duration\": 4, \"resources\": [\"M1\"], \"dependencies\": [\"T2\", \"T3\"]}\n]\n```\n\n### Wyjście\n\n```python\nMakespan: 14\nT1: 0-5\nT2: 5-8\nT3: 5-7\nT4: 8-12\n```\n\n## Rozszerzenia\n\n1. Dodaj obsługę wielu zasobów dla jednego zadania (np. równoczesne użycie 2 maszyn).\n2. Zoptymalizuj wybór zasobów, aby minimalizować _makespan_.\n3. Zwizualizuj harmonogram za pomocą wykresu Gantta (wygeneruj kod w formacie mermaid (https://mermaid.js.org/syntax/gantt.html)\n",
      "metadata": {}
    },
    {
      "id": "4f0897b3-89ac-49da-8d5a-12a686739eb0",
      "cell_type": "markdown",
      "source": "::::{tip} Demo diagramu Ganta\n:class: dropdown\n\n```mermaid\ngantt\n    title A Gantt Diagram\n    dateFormat YYYY-MM-DD\n    section Section\n        A task          :a1, 2014-01-01, 30d\n        Another task    :after a1, 20d\n    section Another\n        Task in Another :2014-01-12, 12d\n        another task    :24d\n```\n::::",
      "metadata": {}
    },
    {
      "id": "54b2c77f-9943-4160-a5a8-ec4b46dedd8d",
      "cell_type": "markdown",
      "source": "## Rozwiązanie",
      "metadata": {}
    },
    {
      "id": "ce0fcbef-8142-422a-b1ee-9a96c3289061",
      "cell_type": "code",
      "source": "",
      "metadata": {
        "trusted": true
      },
      "outputs": [],
      "execution_count": null
    }
  ]
}