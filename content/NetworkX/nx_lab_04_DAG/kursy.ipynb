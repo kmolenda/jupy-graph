{
  "metadata": {
    "kernelspec": {
      "name": "python",
      "display_name": "Python (Pyodide)",
      "language": "python"
    },
    "language_info": {
      "codemirror_mode": {
        "name": "python",
        "version": 3
      },
      "file_extension": ".py",
      "mimetype": "text/x-python",
      "name": "python",
      "nbconvert_exporter": "python",
      "pygments_lexer": "ipython3",
      "version": "3.8"
    }
  },
  "nbformat_minor": 5,
  "nbformat": 4,
  "cells": [
    {
      "id": "ce762662-5e97-423b-8d3b-5c30c26ef4b9",
      "cell_type": "markdown",
      "source": "# Planowanie kształcenia na kierunku Informatyka\n\n* Krzysztof Molenda, 2025.05.30",
      "metadata": {}
    },
    {
      "id": "7cf0c011-b845-493b-a09a-09be2e149843",
      "cell_type": "markdown",
      "source": "## Problem\n\nNależy ułożyć plan realizacji przedmiotów na kierunku Informatyka. Każdy kurs może mieć wymagania wstępne (kursy, które trzeba zaliczyć przed rozpoczęciem danego kursu). Twoim zadaniem jest sprawdzić, czy istnieje poprawna kolejność realizacji kursów, oraz jeśli tak – podać jedną z możliwych sekwencji.",
      "metadata": {}
    },
    {
      "id": "72b8f908-e7d9-4378-bd3d-76de8fa1d5d2",
      "cell_type": "markdown",
      "source": "## Dane wejściowe\n\nPrzykładowe dane (format JSON) - dostepne w pliku\n\n```json\n{\n  \"courses\": [\n    {\n      \"id\": \"CS101\",\n      \"name\": \"Wstęp do Informatyki\",\n      \"prerequisites\": []\n    },\n    {\n      \"id\": \"CS102\",\n      \"name\": \"Algorytmy i struktury danych\",\n      \"prerequisites\": [\"CS101\"]\n    },\n    {\n      \"id\": \"CS201\",\n      \"name\": \"Bazy danych\",\n      \"prerequisites\": [\"CS101\"]\n    },\n    {\n      \"id\": \"CS301\",\n      \"name\": \"Zaawansowane algorytmy\",\n      \"prerequisites\": [\"CS102\"]\n    },\n    {\n      \"id\": \"CS302\",\n      \"name\": \"Systemy operacyjne\",\n      \"prerequisites\": [\"CS102\", \"CS201\"]\n    }\n  ]\n}\n```",
      "metadata": {}
    },
    {
      "id": "8815d02a-2045-4d59-b9f3-5706d835fa9a",
      "cell_type": "markdown",
      "source": "## Rozwiązanie",
      "metadata": {}
    },
    {
      "id": "fdada876-0d1e-43a4-a19c-d6824ae06e71",
      "cell_type": "code",
      "source": "",
      "metadata": {
        "trusted": true
      },
      "outputs": [],
      "execution_count": null
    },
    {
      "id": "f01c2c46-9aef-4a67-8985-76cbc9b88506",
      "cell_type": "code",
      "source": "",
      "metadata": {
        "trusted": true
      },
      "outputs": [],
      "execution_count": null
    }
  ]
}