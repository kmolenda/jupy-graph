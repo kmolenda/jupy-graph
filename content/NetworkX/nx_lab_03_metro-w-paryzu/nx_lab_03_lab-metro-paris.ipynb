{
  "metadata": {
    "kernelspec": {
      "name": "python",
      "display_name": "Python (Pyodide)",
      "language": "python"
    },
    "language_info": {
      "codemirror_mode": {
        "name": "python",
        "version": 3
      },
      "file_extension": ".py",
      "mimetype": "text/x-python",
      "name": "python",
      "nbconvert_exporter": "python",
      "pygments_lexer": "ipython3",
      "version": "3.8"
    }
  },
  "nbformat_minor": 5,
  "nbformat": 4,
  "cells": [
    {
      "id": "9df8456d-e71a-41a2-a840-27134f7fd80e",
      "cell_type": "markdown",
      "source": "# Lab. Metro w Paryżu\n\n* Krzysztof Molenda, 2025-05-15\n\nĆwiczenie do samodzielnego wykonania, ze wspomaganiem asystenta AI",
      "metadata": {}
    },
    {
      "id": "938b2ba4-4719-4ded-9106-530162361e45",
      "cell_type": "code",
      "source": "import pandas as pd\nimport networkx as nx\nimport matplotlib.pyplot as plt\nimport scipy",
      "metadata": {
        "trusted": true
      },
      "outputs": [],
      "execution_count": null
    },
    {
      "id": "c22871e2-4625-49c9-844c-2789f2a8f396",
      "cell_type": "markdown",
      "source": "## Analiza danych źródłowych\n\nW załączonych w katalogu projektu plikach `.csv` zamieszczone zostały dane dotyczące fragmentu sieci metra w Paryżu.\n\nWczytaj je. Zapoznaj się z tymi danymi.",
      "metadata": {}
    },
    {
      "id": "f86dbac8-f28c-4c13-86a9-881b04a1d2e1",
      "cell_type": "code",
      "source": "# Wczytaj dane, wyświetl\n",
      "metadata": {
        "trusted": true
      },
      "outputs": [],
      "execution_count": null
    },
    {
      "id": "b97255c4-c243-40eb-8b74-a2fbc269661e",
      "cell_type": "code",
      "source": "",
      "metadata": {
        "trusted": true
      },
      "outputs": [],
      "execution_count": null
    },
    {
      "id": "80cd27db-b4fe-4ac9-a385-5a405e810938",
      "cell_type": "markdown",
      "source": "## Utworzenie grafu\n\nUtwórz graf połączeń między stacjami (wielokrawędziowy - bo stacje mogą być połączone wieloma liniami)",
      "metadata": {}
    },
    {
      "id": "f2ba533e-d881-4123-8069-111a04ae6c30",
      "cell_type": "code",
      "source": "# Utwórz graf wielokrawędziowy\n",
      "metadata": {
        "trusted": true
      },
      "outputs": [],
      "execution_count": null
    },
    {
      "id": "f083bf36-ed96-4442-9039-88748fe0cb97",
      "cell_type": "markdown",
      "source": "## Rysowanie grafu",
      "metadata": {}
    },
    {
      "id": "c94192dd-0a25-4986-b8fe-26c3c45a4c7a",
      "cell_type": "markdown",
      "source": "Narysuj ten graf (jakkolwiek)",
      "metadata": {}
    },
    {
      "id": "137221fa-3f15-4f8f-a737-dd0a5580d719",
      "cell_type": "code",
      "source": "",
      "metadata": {
        "trusted": true
      },
      "outputs": [],
      "execution_count": null
    },
    {
      "id": "30697908-28a5-4af1-a159-8f1a03f04c1c",
      "cell_type": "markdown",
      "source": "Spróbuj ustalić parametry i narysować go jak na załączonym pliku (wspomaganie AI, dokumentacja NetworkX)\n\n> współrzędne geograficzne stacji są informacją o lokalizacji węzłów na rysunku grafu w `matplotlib`",
      "metadata": {}
    },
    {
      "id": "7c088431-faa8-4b2b-9821-cdbfe6926271",
      "cell_type": "code",
      "source": "",
      "metadata": {
        "trusted": true
      },
      "outputs": [],
      "execution_count": null
    },
    {
      "id": "9f556e75-047f-486a-a008-fa75f36b522b",
      "cell_type": "markdown",
      "source": "## Graf na mapie",
      "metadata": {}
    },
    {
      "id": "784b7729-3034-4945-9232-9b565e636bf5",
      "cell_type": "markdown",
      "source": "Chcemy uzyć biblioteki `Folium`. Współrzędne stacji podane są w lokalnym układzie francuskim - musimy przeliczyć je na na szerokość i długość geograficzną (lat/lon w WGS84).\n\nZrobić to można przy uzyciu biblioteki `pyproj`",
      "metadata": {}
    },
    {
      "id": "f03f3a0e-5b29-4672-a9d1-56035bd749bb",
      "cell_type": "code",
      "source": "from pyproj import Transformer\n\n# Utwórz transformator: z EPSG:2154 (Lambert-93) do EPSG:4326 (WGS84)\n\n# Przelicz współrzędne\n",
      "metadata": {
        "trusted": true
      },
      "outputs": [],
      "execution_count": null
    },
    {
      "id": "07e3dd3a-b180-4d5a-b938-b5df48af32f8",
      "cell_type": "code",
      "source": "%pip install folium\nimport folium",
      "metadata": {
        "trusted": true
      },
      "outputs": [],
      "execution_count": null
    },
    {
      "id": "c2ead152-f3f8-4c4c-a4c7-e94d1c6ba3f8",
      "cell_type": "code",
      "source": "# Utwórz mapę w centrum Paryża\n\n# Dodaj stacje jako punkty\n\n# Dodaj linie jako polylines\n\n# Zapisz mapę do pliku HTML\n\n# wyświetl mapę",
      "metadata": {
        "trusted": true,
        "scrolled": true
      },
      "outputs": [],
      "execution_count": null
    },
    {
      "id": "581ff75d-f61b-4b59-9a32-c152ade12a66",
      "cell_type": "markdown",
      "source": "## Pytania do grafu",
      "metadata": {}
    },
    {
      "id": "536462ba-be98-4a1e-bc64-ac583f9af926",
      "cell_type": "markdown",
      "source": "### Statystyki opisowe\n\n* liczba stacji\n* liczba połączeń\n* liczba linii\n* stopnie węzłów: minimalny, średni, kasymalny stopień\n* top 5 stacji pod względem liczby połączeń\n* największe stacje pod względem ruchu pasażerskiego (`Trafic`)\n* liczba stacji przesiadkowych",
      "metadata": {}
    },
    {
      "id": "6dd8de6b-81c8-41df-aa99-8d2357d1c34c",
      "cell_type": "code",
      "source": "",
      "metadata": {
        "trusted": true
      },
      "outputs": [],
      "execution_count": null
    },
    {
      "id": "294edc3d-2d08-4f85-894b-623e777643b9",
      "cell_type": "markdown",
      "source": "### Analiza centralności",
      "metadata": {}
    },
    {
      "id": "f94f3596-1fcf-4cb0-b292-7c8356c5be4c",
      "cell_type": "markdown",
      "source": "* Średnica grafu (maksymalna liczba przesiadek potrzebnych do przejazdu między dwiema stacjami)\n* Promień grafu (najmniejsza maksymalna odległość od najbardziej centralnej stacji)\n* Średnia długość wszystkich najkrótszych ścieżek (przeciętna liczba przesiadek w podróży)\n* Gęstosć grafu",
      "metadata": {}
    },
    {
      "id": "c7e10863-12d3-42ac-9d32-08329c1b657f",
      "cell_type": "code",
      "source": "",
      "metadata": {
        "trusted": true
      },
      "outputs": [],
      "execution_count": null
    },
    {
      "id": "5d0f6c92-20b9-4c16-999e-4f8669f8eff7",
      "cell_type": "code",
      "source": "# PageRank - Stacje wpływowe przez połączenia z innymi ważnymi stacjami, Top 5\n",
      "metadata": {
        "trusted": true
      },
      "outputs": [],
      "execution_count": null
    },
    {
      "id": "0254f2fb-66eb-4daa-a4e9-cbafee6cb18a",
      "cell_type": "markdown",
      "source": ":::{seealso} Degree Centrality\n:class: dropdown\n**Degree Centrality** (_centralność stopnia_)\n: to podstawowa miara w analizie sieci, która określa liczbę bezpośrednich połączeń danego węzła (stacji metra) z innymi węzłami. W kontekście metra paryskiego mierzy, ile linii lub połączeń przechodzi przez daną stację. Im wyższa wartość, tym większe znaczenie stacji jako węzła przesiadkowego.\n\n*  Stacje o wysokim stopniu skracają czas podróży, minimalizując liczbę przesiadek.\n*  Zamknięcie stacji z wysokim degree_centrality sparaliżuje znaczną część sieci.\n*  Te stacje mają zwykle najwyższy ruch \n:::",
      "metadata": {}
    },
    {
      "id": "d6e05c01-c52c-4d76-90a6-cadfef7c995a",
      "cell_type": "code",
      "source": "# 1. Degree Centrality (liczba połączeń)\n",
      "metadata": {
        "trusted": true
      },
      "outputs": [],
      "execution_count": null
    },
    {
      "id": "4dad1a43-ab9c-4bd8-ac6f-151d78f0ff19",
      "cell_type": "markdown",
      "source": ":::{seealso} Betweenness Centrality\n:class: dropdown\n**Betweenness Centrality** (_centralność pośrednictwa_)\n:  to miara centralności oparta na najkrótszych ścieżkach w grafie. Mierzy, jak często dany węzeł (stacja) leży na najkrótszych trasach pomiędzy wszystkimi parami innych stacji w sieci.\n\n* Miara ta koncentruje się nie na lokalizacji stacji jako punktu docelowego, ale na jej roli jako węzła przesiadkowego. Stacja może być mocno używana niekoniecznie dlatego, że znajduje się przy atrakcyjnym miejscu, ale dlatego, że służy jako punkt przesiadkowy do wielu innych lokalizacji\n* Stacje o wysokiej centralności pośrednictwa mają znaczny wpływ na sieć metra, ponieważ kontrolują przepływ pasażerów między innymi stacjami\n* Usunięcie stacji o wysokiej betweenness centrality (np. z powodu awarii) najbardziej zakłóci funkcjonowanie całego systemu metra\n:::",
      "metadata": {}
    },
    {
      "id": "fa7ac650-37f5-41f6-9d75-a00cdfcc3b7d",
      "cell_type": "code",
      "source": "# 2. Betweenness Centrality (pośrednictwo w ścieżkach)\n",
      "metadata": {
        "trusted": true
      },
      "outputs": [],
      "execution_count": null
    },
    {
      "id": "085aa928-5526-4fbe-b1b5-7be3d8fb4b25",
      "cell_type": "markdown",
      "source": ":::{seealso} Closeness Centrality\n:class: dropdown\n**Closeness centrality** (_centralność bliskości_)\n: to miara w analizie sieci, która określa, jak \"blisko\" dany węzeł znajduje się względem wszystkich pozostałych węzłów w sieci. Węzły o wysokiej centralności bliskości mogą szybko dotrzeć do wszystkich innych węzłów, co czyni je strategicznymi punktami przepływu informacji lub ruchu.\n\ncloseness centrality mierzy\n* jak łatwo ze stacji można dotrzeć do wszystkich innych stacji (z minimalną liczbą przesiadek)\n* efektywność stacji jako punktu startowego podróży w całej sieci\n:::",
      "metadata": {}
    },
    {
      "id": "79df800e-2cbe-4011-bd5d-c77dee3853df",
      "cell_type": "code",
      "source": "# 3. Closeness Centrality (bliskość do innych)\n",
      "metadata": {
        "trusted": true
      },
      "outputs": [],
      "execution_count": null
    },
    {
      "id": "4932e1ed-8e3d-4d92-b46d-3d5bc067dad3",
      "cell_type": "code",
      "source": "# Połączenie wyników z danymi o ruchu\n",
      "metadata": {
        "trusted": true
      },
      "outputs": [],
      "execution_count": null
    },
    {
      "id": "c772af14-f7e1-4b2c-b07e-890f5081ad54",
      "cell_type": "code",
      "source": "# Najważniejsze stacje według wszystkich metryk\n",
      "metadata": {
        "trusted": true
      },
      "outputs": [],
      "execution_count": null
    },
    {
      "id": "c2c556a5-0ffe-47a5-b877-dd76b18bd5af",
      "cell_type": "markdown",
      "source": "### Spójnosć, mosty i punkty artykulacji",
      "metadata": {}
    },
    {
      "id": "f3d283b1-6a03-4868-b6f0-997d42e1c7dc",
      "cell_type": "code",
      "source": "# Czy graf jest spójny?\n\n\n# Liczba komponentów spójnych\n\n\n# Lista komponentów spójnych\n\n\n# Spójność krawędziowa i wierzchołkowa\n",
      "metadata": {
        "trusted": true
      },
      "outputs": [],
      "execution_count": null
    },
    {
      "id": "31b3519a-4127-4f1d-ac58-9e5afb73f944",
      "cell_type": "code",
      "source": "# Lista wszystkich mostów w grafie\n",
      "metadata": {
        "trusted": true
      },
      "outputs": [],
      "execution_count": null
    },
    {
      "id": "93f9604b-1f8a-4d9c-b122-7517caf051c0",
      "cell_type": "code",
      "source": "# Lista punktów artykulacji\n",
      "metadata": {
        "trusted": true
      },
      "outputs": [],
      "execution_count": null
    },
    {
      "id": "d4a9e019-b603-4b4d-ad44-d611273a2da9",
      "cell_type": "markdown",
      "source": "### Nakrótsza ścieżka między stacją `A` a stacją `B`",
      "metadata": {}
    },
    {
      "id": "7a616a36-3f43-4591-ace0-f65b3872b454",
      "cell_type": "code",
      "source": "# Funkcja wypisująca najkrótszą ścieżkę między dwiema stacjami\n",
      "metadata": {
        "trusted": true
      },
      "outputs": [],
      "execution_count": null
    },
    {
      "id": "11b1a984-d36b-4a26-b7f3-9183996fb4fb",
      "cell_type": "markdown",
      "source": "### Linie\n* Napisz funkcję zwracającą listę stacji dla wskazanej linii. Przetestuj\n* Wypisz wszystkie linie, podając stację początkową, posrednie i końcową\n* Stacje końcowe na poszczególnych liniach",
      "metadata": {}
    },
    {
      "id": "dad1a260-4f6a-4c10-8a23-5761ceb65fe8",
      "cell_type": "code",
      "source": "",
      "metadata": {
        "trusted": true
      },
      "outputs": [],
      "execution_count": null
    },
    {
      "id": "6495af1b-3b10-4421-af5a-8b8039ffc6c6",
      "cell_type": "code",
      "source": "",
      "metadata": {
        "trusted": true
      },
      "outputs": [],
      "execution_count": null
    },
    {
      "id": "a41fea5e-6a55-47b8-a6f5-60105d9e8eec",
      "cell_type": "code",
      "source": "",
      "metadata": {
        "trusted": true
      },
      "outputs": [],
      "execution_count": null
    },
    {
      "id": "8ede9679-cc37-4cea-8c09-92a91b7d148c",
      "cell_type": "markdown",
      "source": "### Traffic\n\n* Top 10 stacji wg ruchu\n* Suma ruchu na każdej linii\n* Stacje przesiadkowe z największym ruchem",
      "metadata": {}
    },
    {
      "id": "cf01daa7-68c6-4aec-ba04-5649a5941167",
      "cell_type": "code",
      "source": "",
      "metadata": {
        "trusted": true
      },
      "outputs": [],
      "execution_count": null
    },
    {
      "id": "04607ec3-2d9a-4a0a-8713-09e4b47f0a88",
      "cell_type": "markdown",
      "source": "### Odległości między stacjami (dla linii)\n\nWspółrzędne `x` oraz `y` zdefiniowane są w układzie płaskim (x/y w metrach, Lambert 93). Aby obliczyć odległość w linii prostej między wskazanymi punktami można użyć miary euklidesowej.\n\n* Utwórz zestawienie odległości (w linii prostej) między sąsiadującymi stacjami, zgodnie z grafem\n* Oblicz długość każdej linii",
      "metadata": {}
    },
    {
      "id": "c048d193-9097-4265-8203-2dba3dee54d4",
      "cell_type": "code",
      "source": "",
      "metadata": {
        "trusted": true
      },
      "outputs": [],
      "execution_count": null
    },
    {
      "id": "3600ccd6-4f35-46b6-9ced-8501f32ce55f",
      "cell_type": "code",
      "source": "",
      "metadata": {
        "trusted": true
      },
      "outputs": [],
      "execution_count": null
    }
  ]
}