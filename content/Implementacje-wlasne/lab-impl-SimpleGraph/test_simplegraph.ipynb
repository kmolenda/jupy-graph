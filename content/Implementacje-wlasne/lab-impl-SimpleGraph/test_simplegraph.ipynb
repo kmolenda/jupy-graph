{
  "metadata": {
    "kernelspec": {
      "name": "python",
      "display_name": "Python (Pyodide)",
      "language": "python"
    },
    "language_info": {
      "codemirror_mode": {
        "name": "python",
        "version": 3
      },
      "file_extension": ".py",
      "mimetype": "text/x-python",
      "name": "python",
      "nbconvert_exporter": "python",
      "pygments_lexer": "ipython3",
      "version": "3.8"
    }
  },
  "nbformat_minor": 5,
  "nbformat": 4,
  "cells": [
    {
      "id": "f2ba7a0a-452c-4483-9898-b126c816655b",
      "cell_type": "code",
      "source": "import unittest",
      "metadata": {
        "trusted": true
      },
      "outputs": [],
      "execution_count": null
    },
    {
      "id": "d8044b56-7cea-48d8-8a96-e354d2419713",
      "cell_type": "code",
      "source": "from simplegraph import SimpleGraph",
      "metadata": {
        "trusted": true
      },
      "outputs": [],
      "execution_count": null
    },
    {
      "id": "9528fed0-3f22-42b3-89ec-1d4f6f6fe4c2",
      "cell_type": "code",
      "source": "class TestSimpleGraph(unittest.TestCase):\n\n    # Adding a node adds it to the adjacency list\n    def test_add_node_adds_to_adjacency_list(self):\n        # Arrange\n        graph = SimpleGraph()\n    \n        # Act\n        graph.add_node(1)\n    \n        # Assert\n        self.assertTrue(1 in graph._adjacency)\n        self.assertEqual(set(), graph._adjacency[1])\n\n    # Adding an edge connects two nodes bidirectionally\n    def test_add_edge_connects_nodes_bidirectionally(self):\n        # Arrange\n        graph = SimpleGraph()\n    \n        # Act\n        graph.add_edge(1, 2)\n    \n        # Assert\n        self.assertTrue(2 in graph._adjacency[1])\n        self.assertTrue(1 in graph._adjacency[2])\n        self.assertTrue((1, 2) in graph._edges)\n        self.assertTrue((2, 1) in graph._edges)\n\n    # Removing a node removes it and all its connected edges\n    def test_remove_node_removes_node_and_connected_edges(self):\n        # Arrange\n        graph = SimpleGraph()\n        graph.add_edge(1, 2)\n        graph.add_edge(1, 3)\n    \n        # Act\n        graph.remove_node(1)\n    \n        # Assert\n        self.assertFalse(1 in graph._adjacency)\n        self.assertFalse(1 in graph._adjacency[2])\n        self.assertFalse(1 in graph._adjacency[3])\n        self.assertFalse((1, 2) in graph._edges)\n        self.assertFalse((2, 1) in graph._edges)\n        self.assertFalse((1, 3) in graph._edges)\n        self.assertFalse((3, 1) in graph._edges)\n\n    # Removing an edge disconnects two nodes bidirectionally\n    def test_remove_edge_disconnects_nodes_bidirectionally(self):\n        # Arrange\n        graph = SimpleGraph()\n        graph.add_edge(1, 2)\n    \n        # Act\n        graph.remove_edge(1, 2)\n    \n        # Assert\n        self.assertFalse(2 in graph._adjacency[1])\n        self.assertFalse(1 in graph._adjacency[2])\n        self.assertFalse((1, 2) in graph._edges)\n        self.assertFalse((2, 1) in graph._edges)\n\n    # Checking if a node exists returns correct boolean\n    def test_has_node_returns_correct_boolean(self):\n        # Arrange\n        graph = SimpleGraph()\n        graph.add_node(1)\n    \n        # Act & Assert\n        self.assertTrue(graph.has_node(1))\n        self.assertFalse(graph.has_node(2))\n\n    # Checking if an edge exists returns correct boolean\n    def test_has_edge_returns_correct_boolean(self):\n        # Arrange\n        graph = SimpleGraph()\n        graph.add_edge(1, 2)\n    \n        # Act & Assert\n        self.assertTrue(graph.has_edge(1, 2))\n        self.assertTrue(graph.has_edge(2, 1))  # Undirected graph\n        self.assertFalse(graph.has_edge(1, 3))\n\n    # Adding an edge between non-existent nodes automatically adds the nodes\n    def test_add_edge_automatically_adds_nodes(self):\n        # Arrange\n        graph = SimpleGraph()\n    \n        # Act\n        graph.add_edge(1, 2)\n    \n        # Assert\n        self.assertTrue(graph.has_node(1))\n        self.assertTrue(graph.has_node(2))\n        self.assertEqual({2}, graph._adjacency[1])\n        self.assertEqual({1}, graph._adjacency[2])\n\n    # Adding an edge between the same node (loop) raises ValueError\n    def test_add_edge_with_loop_raises_value_error(self):\n        # Arrange\n        graph = SimpleGraph()\n    \n        # Act & Assert\n        with self.assertRaises(ValueError) as context:\n            graph.add_edge(1, 1)\n    \n        self.assertEqual(\"Loops are not allowed in simple graphs.\", str(context.exception))\n\n    # Adding a duplicate edge raises ValueError\n    def test_add_duplicate_edge_raises_value_error(self):\n        # Arrange\n        graph = SimpleGraph()\n        graph.add_edge(1, 2)\n    \n        # Act & Assert\n        with self.assertRaises(ValueError) as context:\n            graph.add_edge(1, 2)\n    \n        self.assertEqual(\"Multiple edges are not allowed in simple graphs.\", str(context.exception))\n    \n        # Also test the reverse direction\n        with self.assertRaises(ValueError) as context:\n            graph.add_edge(2, 1)\n    \n        self.assertEqual(\"Multiple edges are not allowed in simple graphs.\", str(context.exception))\n\n    # Removing a non-existent node does nothing\n    def test_remove_nonexistent_node_does_nothing(self):\n        # Arrange\n        graph = SimpleGraph()\n        graph.add_node(1)\n    \n        # Act\n        graph.remove_node(2)  # Node 2 doesn't exist\n    \n        # Assert\n        self.assertTrue(graph.has_node(1))\n        self.assertEqual(1, len(graph._adjacency))\n\n    # Removing a non-existent edge does nothing\n    def test_remove_nonexistent_edge_does_nothing(self):\n        # Arrange\n        graph = SimpleGraph()\n        graph.add_edge(1, 2)\n    \n        # Act\n        graph.remove_edge(1, 3)  # Edge (1,3) doesn't exist\n    \n        # Assert\n        self.assertTrue(graph.has_edge(1, 2))\n        self.assertEqual({2}, graph._adjacency[1])\n        self.assertEqual({1}, graph._adjacency[2])\n\n    # Accessing neighbors of non-existent node raises KeyError\n    def test_neighbors_of_nonexistent_node_raises_key_error(self):\n        # Arrange\n        graph = SimpleGraph()\n    \n        # Act & Assert\n        with self.assertRaises(KeyError):\n            graph.neighbors(1)  # Node 1 doesn't exist\n\n    # Getting neighbors returns the correct set of adjacent nodes\n    def test_getting_neighbors(self):\n        graph = SimpleGraph()\n        graph.add_edge('A', 'B')\n        graph.add_edge('A', 'C')\n        neighbors = graph.neighbors('A')\n        self.assertEqual(set(neighbors), {'B', 'C'})\n\n    # Accessing nodes property returns all nodes in the graph\n    def test_accessing_nodes_property(self):\n        graph = SimpleGraph()\n        graph.add_node('A')\n        graph.add_node('B')\n        nodes = graph.nodes\n        self.assertEqual(set(nodes), {'A', 'B'})\n\n    # Accessing edges property returns all edges in the graph\n    def test_accessing_edges_property(self):\n        graph = SimpleGraph()\n        graph.add_edge('A', 'B')\n        edges = graph.edges\n        self.assertEqual(set(edges), {('A', 'B'), ('B', 'A')})\n\n    # Using __getitem__ syntax (graph[node]) returns neighbors\n    def test_getitem_returns_neighbors(self):\n        graph = SimpleGraph()\n        graph.add_node('A')\n        graph.add_node('B')\n        graph.add_edge('A', 'B')\n        self.assertEqual(set(graph['A']), {'B'})\n        self.assertEqual(set(graph['B']), {'A'})\n\n    # Using __len__ returns the number of nodes\n    def test_len_returns_number_of_nodes(self):\n        graph = SimpleGraph()\n        graph.add_node('A')\n        graph.add_node('B')\n        self.assertEqual(len(graph), 2)\n        graph.add_node('C')\n        self.assertEqual(len(graph), 3)\n\n    # Using __str__ returns string representation of adjacency list\n    def test_str_returns_adjacency_list_representation(self):\n        graph = SimpleGraph()\n        graph.add_node('A')\n        graph.add_node('B')\n        graph.add_edge('A', 'B')\n        expected_str = \"{'A': {'B'}, 'B': {'A'}}\"\n        self.assertEqual(str(graph), expected_str)\n\n    # Using __contains__ (node in graph) checks if node exists\n    def test_contains_operator_checks_node_existence(self):\n        graph = SimpleGraph()\n        graph.add_node('A')\n        self.assertIn('A', graph)\n        self.assertNotIn('B', graph)\n        graph.remove_node('A')\n        self.assertNotIn('A', graph)\n\n    # Graph maintains undirected property (edges exist in both directions)\n    def test_undirected_property_of_graph(self):\n        graph = SimpleGraph()\n        graph.add_edge('A', 'B')\n        self.assertTrue(graph.has_edge('A', 'B'))\n        self.assertTrue(graph.has_edge('B', 'A'))\n        graph.remove_edge('A', 'B')\n        self.assertFalse(graph.has_edge('A', 'B'))\n        self.assertFalse(graph.has_edge('B', 'A'))\n\n    # Adding a new node creates an entry with an empty set of neighbors\n    def test_add_node_creates_empty_neighbors(self):\n        graph = SimpleGraph()\n        graph.add_node('A')\n        self.assertEqual(graph.neighbors('A'), set())\n\n    # Adding an existing node does not modify the graph\n    def test_adding_existing_node_does_not_modify_graph(self):\n        graph = SimpleGraph()\n        graph.add_node('A')\n        initial_length = len(graph)\n        graph.add_node('A')  # Adding the same node again\n        self.assertEqual(len(graph), initial_length)\n\n    # Adding a node with a non-hashable value raises TypeError\n    def test_adding_non_hashable_node_raises_typeerror(self):\n        graph = SimpleGraph()\n        with self.assertRaises(TypeError):\n            graph.add_node(['non-hashable'])  # List is non-hashable\n\n    # After adding edge (u,v), node v appears in u's neighbors\n    def test_edge_addition_updates_neighbors(self):\n        graph = SimpleGraph()\n        graph.add_edge('A', 'B')\n        self.assertIn('B', graph.neighbors('A'))\n        self.assertIn('A', graph.neighbors('B'))\n\n    # Adding a node increases the graph length by 1\n    def test_add_node_increases_length(self):\n        graph = SimpleGraph()\n        initial_length = len(graph)\n        graph.add_node('A')\n        self.assertEqual(len(graph), initial_length + 1)\n\n    # After adding edge (u,v), node u appears in v's neighbors\n    def test_add_edge_updates_neighbors(self):\n        graph = SimpleGraph()\n        graph.add_edge('A', 'B')\n        self.assertIn('A', graph.neighbors('B'))\n        self.assertIn('B', graph.neighbors('A'))\n\n    # Adding edge (u,v) adds both (u,v) and (v,u) to the edges set\n    def test_add_edge_updates_edges_set(self):\n        graph = SimpleGraph()\n        graph.add_edge('A', 'B')\n        self.assertIn(('A', 'B'), graph.edges)\n        self.assertIn(('B', 'A'), graph.edges)\n\n    # Edge addition maintains symmetry in the adjacency list\n    def test_edge_addition_symmetry(self):\n        graph = SimpleGraph()\n        graph.add_edge('A', 'B')\n        self.assertIn('B', graph.neighbors('A'))\n        self.assertIn('A', graph.neighbors('B'))\n\n    # After removing a node, it no longer exists in the adjacency list\n    def test_remove_node_no_longer_exists(self):\n        graph = SimpleGraph()\n        graph.add_node('A')\n        graph.remove_node('A')\n        self.assertNotIn('A', graph.nodes)\n\n    # Adding edge (u,u) raises ValueError with appropriate message\n    def test_adding_loop_raises_value_error(self):\n        graph = SimpleGraph()\n        with self.assertRaises(ValueError) as context:\n            graph.add_edge('A', 'A')\n        self.assertEqual(str(context.exception), \"Loops are not allowed in simple graphs.\")\n\n    # Removing a node removes all edges connected to it from the edges set\n    def test_remove_node_removes_connected_edges(self):\n        graph = SimpleGraph()\n        graph.add_edge('A', 'B')\n        graph.add_edge('A', 'C')\n        graph.remove_node('A')\n        self.assertNotIn(('A', 'B'), graph.edges)\n        self.assertNotIn(('B', 'A'), graph.edges)\n        self.assertNotIn(('A', 'C'), graph.edges)\n        self.assertNotIn(('C', 'A'), graph.edges)\n\n    # has_node returns True for nodes that have been added\n    def test_has_node_returns_true_for_added_nodes(self):\n        graph = SimpleGraph()\n        graph.add_node('A')\n        self.assertTrue(graph.has_node('A'))\n\n    # Adding edge (u,v) makes v a neighbor of u and u a neighbor of v\n    def test_add_edge_makes_nodes_neighbors(self):\n        graph = SimpleGraph()\n        graph.add_edge('A', 'B')\n        self.assertIn('B', graph.neighbors('A'))\n        self.assertIn('A', graph.neighbors('B'))\n\n    # Test that graph is iterable\n    def test_graph_is_iterable(self):\n        # Arrange\n        graph = SimpleGraph()\n        nodes = [1, 2, 3]\n        for node in nodes:\n            graph.add_node(node)\n    \n        # Act & Assert\n        for node in graph:\n            self.assertIn(node, nodes)\n\n    # test for equality\n    def test_equals_graphs(self):\n        graph1 = SimpleGraph()\n        graph2 = SimpleGraph()\n        graph1.add_edge(\"A\", \"B\")\n        graph2.add_edge(\"A\", \"B\")\n        self.assertEqual(graph1, graph2)\n\n    # test for del node\n    def test_del_item(self):\n        self.graph.add_edge(\"A\", \"B\")\n        del self.graph[\"A\"]\n        self.assertNotIn(\"A\", self.graph)\n        self.assertNotIn(\"A\", self.graph[\"B\"])",
      "metadata": {
        "trusted": true
      },
      "outputs": [],
      "execution_count": null
    },
    {
      "id": "e523152d-e2fd-4db8-9bd1-9e783b7f0206",
      "cell_type": "code",
      "source": "unittest.main()",
      "metadata": {
        "trusted": true
      },
      "outputs": [],
      "execution_count": null
    },
    {
      "id": "001ac962-f3bf-4afd-b41a-a874e41c3c73",
      "cell_type": "code",
      "source": "",
      "metadata": {
        "trusted": true
      },
      "outputs": [],
      "execution_count": null
    }
  ]
}